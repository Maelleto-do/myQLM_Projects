{
 "cells": [
  {
   "cell_type": "code",
   "execution_count": 1,
   "id": "29496e62",
   "metadata": {},
   "outputs": [],
   "source": [
    "from qat.lang.AQASM import Program, H, CNOT"
   ]
  },
  {
   "cell_type": "markdown",
   "id": "7f3a4167",
   "metadata": {},
   "source": [
    "### Ecriture du circuit\n",
    "\n",
    "Ecrivons un circuit préparant l'état de Bell $\\frac{1}{2} (|00\\rangle + |11\\rangle)$"
   ]
  },
  {
   "cell_type": "code",
   "execution_count": 6,
   "id": "eac68e80",
   "metadata": {},
   "outputs": [],
   "source": [
    "qprog = Program()\n",
    "nbqbits = 2\n",
    "qbits = qprog.qalloc(nbqbits)"
   ]
  },
  {
   "cell_type": "code",
   "execution_count": 7,
   "id": "ecd26fdb",
   "metadata": {},
   "outputs": [],
   "source": [
    "# Appliquons des portes quantiques\n",
    "qprog.apply(H, qbits[0])\n",
    "qprog.apply(CNOT, qbits[0], qbits[1])\n",
    "\n",
    "# Exportons ce programme en un circuit quantique\n",
    "circuit = qprog.to_circ()\n"
   ]
  },
  {
   "cell_type": "markdown",
   "id": "71c9fbc5",
   "metadata": {},
   "source": [
    "### Simulation du circuit"
   ]
  },
  {
   "cell_type": "code",
   "execution_count": 12,
   "id": "1edd87fa",
   "metadata": {},
   "outputs": [],
   "source": [
    "# import one Quantum Processor Unit Factory\n",
    "from qat.qpus import PyLinalg"
   ]
  },
  {
   "cell_type": "code",
   "execution_count": 15,
   "id": "9df2f83f",
   "metadata": {},
   "outputs": [
    {
     "name": "stdout",
     "output_type": "stream",
     "text": [
      "State |00> amplitude (0.7071067811865475+0j)\n",
      "State |11> amplitude (0.7071067811865475+0j)\n"
     ]
    }
   ],
   "source": [
    "\n",
    "# Create a Quantum Processor Unit\n",
    "pylinalgqpu = PyLinalg()\n",
    "\n",
    "\n",
    "# Create a job\n",
    "job = circuit.to_job()\n",
    "\n",
    "# Submit the job to the QPU\n",
    "result = pylinalgqpu.submit(job)\n",
    "\n",
    "# Iterate over the final state vector to get all final components\n",
    "for sample in result:\n",
    "    print(\"State %s amplitude %s\" % (sample.state, sample.amplitude))"
   ]
  }
 ],
 "metadata": {
  "kernelspec": {
   "display_name": "Python 3 (ipykernel)",
   "language": "python",
   "name": "python3"
  },
  "language_info": {
   "codemirror_mode": {
    "name": "ipython",
    "version": 3
   },
   "file_extension": ".py",
   "mimetype": "text/x-python",
   "name": "python",
   "nbconvert_exporter": "python",
   "pygments_lexer": "ipython3",
   "version": "3.9.7"
  }
 },
 "nbformat": 4,
 "nbformat_minor": 5
}
