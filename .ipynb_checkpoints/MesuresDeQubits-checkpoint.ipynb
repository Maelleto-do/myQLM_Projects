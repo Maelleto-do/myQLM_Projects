{
 "cells": [
  {
   "cell_type": "markdown",
   "id": "2b1085b5",
   "metadata": {},
   "source": [
    "# Mesure de l'état de Bell\n",
    "\n",
    "Considérons l'état de Bell :\n",
    "$|\\psi\\rangle = \\frac{|00\\rangle + |11\\rangle}{\\sqrt{2}}$\n"
   ]
  },
  {
   "cell_type": "markdown",
   "id": "1eb56317",
   "metadata": {},
   "source": [
    "Si l'on mesure le premier qubit, on devrait logiquement obtenir :\n",
    "- la valeur $0$ avec une probabilité $1/2$\n",
    "- la valeur $1$ avec une probabilité $1/2$"
   ]
  },
  {
   "cell_type": "code",
   "execution_count": 3,
   "id": "734a2a59",
   "metadata": {},
   "outputs": [
    {
     "name": "stdout",
     "output_type": "stream",
     "text": [
      "State |00>, amplitude (0.7071067811865475+0j), probability 0.4999999999999999\n",
      "State |11>, amplitude (0.7071067811865475+0j), probability 0.4999999999999999\n"
     ]
    }
   ],
   "source": [
    "from qat.lang.AQASM import Program, H, CNOT, X\n",
    "qprog = Program()\n",
    "nbqbits = 2\n",
    "qbits = qprog.qalloc(nbqbits)\n",
    "qprog.apply(H, qbits[0])\n",
    "qprog.apply(CNOT, qbits[0], qbits[1])\n",
    "\n",
    "circuit = qprog.to_circ()\n",
    "\n",
    "from qat.qpus import PyLinalg\n",
    "\n",
    "result = PyLinalg().submit(circuit.to_job())\n",
    "for sample in result : \n",
    "    print(\"State %s, amplitude %s, probability %s\"%(sample.state, sample.amplitude, sample.probability))\n"
   ]
  },
  {
   "cell_type": "code",
   "execution_count": 5,
   "id": "107d4115",
   "metadata": {},
   "outputs": [
    {
     "name": "stdout",
     "output_type": "stream",
     "text": [
      "Qubit 0 has value 0 (the probability of getting this result is 0.56 +/- 0.07091242083423346)\n",
      "Qubit 0 has value 1 (the probability of getting this result is 0.44 +/- 0.07091242083423346)\n",
      "\n",
      "Qubit 1 has value 0 (the probability of getting this result is 0.56 +/- 0.07091242083423346)\n",
      "Qubit 1 has value 1 (the probability of getting this result is 0.44 +/- 0.07091242083423346)\n"
     ]
    }
   ],
   "source": [
    "# measuring qubit #0 50 times\n",
    "result = PyLinalg().submit(circuit.to_job(qubits=[0], nbshots=50))\n",
    "for res in result:\n",
    "    print(\"Qubit 0 has value %s (the probability of getting this result is %s +/- %s)\"%(int(res.state[0]),\n",
    "                                                                                 res.probability, res.err))\n",
    "print()\n",
    "\n",
    "# measuring qubit #1 50 times\n",
    "result = PyLinalg().submit(circuit.to_job(qubits=[1], nbshots=50))\n",
    "for res in result:\n",
    "    print(\"Qubit 1 has value %s (the probability of getting this result is %s +/- %s)\"%(int(res.state[0]), \n",
    "                                                                                 res.probability, res.err))"
   ]
  }
 ],
 "metadata": {
  "kernelspec": {
   "display_name": "Python 3 (ipykernel)",
   "language": "python",
   "name": "python3"
  },
  "language_info": {
   "codemirror_mode": {
    "name": "ipython",
    "version": 3
   },
   "file_extension": ".py",
   "mimetype": "text/x-python",
   "name": "python",
   "nbconvert_exporter": "python",
   "pygments_lexer": "ipython3",
   "version": "3.9.7"
  }
 },
 "nbformat": 4,
 "nbformat_minor": 5
}
