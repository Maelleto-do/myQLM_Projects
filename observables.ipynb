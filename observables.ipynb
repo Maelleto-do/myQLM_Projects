{
 "cells": [
  {
   "cell_type": "markdown",
   "id": "9c4e2d9e",
   "metadata": {},
   "source": [
    " # Manipuler les observables\n",
    "\n",
    "\n"
   ]
  },
  {
   "cell_type": "markdown",
   "id": "ff56bd2b",
   "metadata": {},
   "source": [
    "Dans le formalisme de la mécanique quantique, une opération de mesure (c'est-à-dire obtenir la valeur ou un intervalle de valeurs d'un paramètre physique, ou plus généralement une information sur un système physique) est représentée par ce qu'il est convenu d'appeler une observable.\n",
    "\n",
    "Une observable est formalisée mathématiquement par un opérateur agissant sur les vecteurs d'un espace de Hilbert $\\mathcal{H}$ (chaque état quantique étant représenté par un vecteur dans cet espace).\n",
    "\n",
    "Définissons notre observable :"
   ]
  },
  {
   "cell_type": "code",
   "execution_count": 2,
   "id": "24a78125",
   "metadata": {},
   "outputs": [],
   "source": [
    "from qat.core import Observable, Term\n",
    "nbqbits = 5\n",
    "one_count = Observable(nbqbits)"
   ]
  },
  {
   "cell_type": "markdown",
   "id": "7696ddf9",
   "metadata": {},
   "source": [
    "Il est possible d'ajouter des termes de Pauli à l'observable et ainsi de l'écrire comme une somme d'opérateurs de Pauli :"
   ]
  },
  {
   "cell_type": "code",
   "execution_count": 5,
   "id": "502f0861",
   "metadata": {},
   "outputs": [
    {
     "name": "stdout",
     "output_type": "stream",
     "text": [
      "7.5 * I^5 +\n",
      "-1.5 * (Z|[0]) +\n",
      "-1.5 * (Z|[1]) +\n",
      "-1.5 * (Z|[2]) +\n",
      "-1.5 * (Z|[3]) +\n",
      "-1.5 * (Z|[4])\n"
     ]
    }
   ],
   "source": [
    "# The sigma Z terms:\n",
    "for i in range(nbqbits):\n",
    "    one_count.add_term(Term(-0.5, \"Z\", [i]))\n",
    "# And the constant term:\n",
    "one_count.constant_coeff += nbqbits/2\n",
    "\n",
    "print(one_count)\n"
   ]
  },
  {
   "cell_type": "markdown",
   "id": "d046ca06",
   "metadata": {},
   "source": [
    "Utilisons notre observable sur un circuit :"
   ]
  },
  {
   "cell_type": "code",
   "execution_count": 6,
   "id": "349acd42",
   "metadata": {},
   "outputs": [
    {
     "name": "stdout",
     "output_type": "stream",
     "text": [
      "Number of ones: 6.0\n"
     ]
    }
   ],
   "source": [
    "from qat.lang.AQASM import Program, X, CNOT, RX\n",
    "\n",
    "prog_2_ones = Program()\n",
    "qbits = prog_2_ones.qalloc(nbqbits)\n",
    "prog_2_ones.apply(X, qbits[0])\n",
    "prog_2_ones.apply(CNOT, qbits[0], qbits[2])\n",
    "circ_2_ones = prog_2_ones.to_circ()\n",
    "\n",
    "from qat.qpus import PyLinalg\n",
    "from qat.plugins import ObservableSplitter\n",
    "\n",
    "qpu = ObservableSplitter() | PyLinalg()\n",
    "job = circ_2_ones.to_job(\"OBS\", observable=one_count, nbshots=30)\n",
    "print(\"Number of ones:\", qpu.submit(job).value)"
   ]
  }
 ],
 "metadata": {
  "kernelspec": {
   "display_name": "Python 3 (ipykernel)",
   "language": "python",
   "name": "python3"
  },
  "language_info": {
   "codemirror_mode": {
    "name": "ipython",
    "version": 3
   },
   "file_extension": ".py",
   "mimetype": "text/x-python",
   "name": "python",
   "nbconvert_exporter": "python",
   "pygments_lexer": "ipython3",
   "version": "3.9.7"
  }
 },
 "nbformat": 4,
 "nbformat_minor": 5
}
